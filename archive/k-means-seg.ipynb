{
 "cells": [
  {
   "cell_type": "code",
   "execution_count": null,
   "id": "fee1999e-59d1-4fee-a05c-a8195831e930",
   "metadata": {},
   "outputs": [],
   "source": [
    "# Rafael Rocha Mattazio\n",
    "# nºUSP 6516211\n",
    "# SCC5830 (2022/1)\n",
    "# Assignment 6 = Color Image Processing and Segmentation"
   ]
  },
  {
   "cell_type": "code",
   "execution_count": 1,
   "id": "3960f691-86b5-4c0b-a4f4-37db60d626f0",
   "metadata": {},
   "outputs": [],
   "source": [
    "import numba as nb"
   ]
  },
  {
   "cell_type": "code",
   "execution_count": 2,
   "id": "f92fd9c9-76a5-4043-a5ab-4f78508f6480",
   "metadata": {},
   "outputs": [],
   "source": [
    "from numba import jit, prange"
   ]
  },
  {
   "cell_type": "code",
   "execution_count": 3,
   "id": "8e924bf0-f39a-4fe5-8ae1-c0365b43bec3",
   "metadata": {},
   "outputs": [],
   "source": [
    "import random\n",
    "import numpy as np\n",
    "import imageio\n",
    "import matplotlib.pyplot as plt"
   ]
  },
  {
   "cell_type": "code",
   "execution_count": 4,
   "id": "15178add-4082-4f31-8bc9-441d820740a5",
   "metadata": {},
   "outputs": [],
   "source": [
    "# from platform import python_version ; print(python_version() == '3.9.2')\n",
    "# print(np.__version__ == '1.22.3')\n",
    "# print(imageio.__version__ == '2.16.1')\n",
    "# import matplotlib ; print(matplotlib.__version__ == '3.5.1')"
   ]
  },
  {
   "cell_type": "code",
   "execution_count": 5,
   "id": "1c33c6c4-8e52-48fd-bc33-c8bbb99af191",
   "metadata": {},
   "outputs": [],
   "source": [
    "# Read input\n",
    "path_img = \"img-db/\"\n",
    "\n",
    "img_ipt = 'IMG_8780.JPG'\n",
    "attr_option = 3\n",
    "clusters = 4\n",
    "total_iter = 10\n",
    "seed = 1618"
   ]
  },
  {
   "cell_type": "code",
   "execution_count": 6,
   "id": "c11bfd4f-2bf8-4082-bb3f-e786141c39ea",
   "metadata": {},
   "outputs": [],
   "source": [
    "# Check range of parameters\n",
    "# assert (query >= 0) and (query < dataset_size) , \"Index of image for query must be [0, dataset_size]\"\n",
    "# for num in neighbour:\n",
    "#     assert num in [-1, 0, 1], \"Neighbour pixel must be anyone near, that is x,y in [-1,1]\"  # (num >= -1) and (num <=1)\n",
    "# assert morph_mod_type in [1, 2], \"Morphology modification methods allowed are 1-Opening or 2-Closing\"\n",
    "# assert (thresh_binary >= 0) and (thresh_binary <= 255) , \"The threshold for image binarization must be in [0,255]\"\n",
    "# assert dataset_size > 0, \"There must be at least one image in the dataset\"\n",
    "# assert len(img_names) > 0, \"There wasn't any name of image for the dataset or they wasn't recognized\""
   ]
  },
  {
   "cell_type": "code",
   "execution_count": 7,
   "id": "d57da180-d52e-49d2-bb17-dbec445cbe94",
   "metadata": {},
   "outputs": [],
   "source": [
    "# Read input image\n",
    "img_src = path_img + img_ipt\n",
    "img_in = (imageio.imread(img_src)).astype(np.float32)  #[:5,:5,:]\n",
    "m = img_in.shape[0]\n",
    "n = img_in.shape[1]"
   ]
  },
  {
   "cell_type": "code",
   "execution_count": 8,
   "id": "ce0d8b9c-0a01-414b-b34d-33a3cc1720be",
   "metadata": {},
   "outputs": [],
   "source": [
    "def luminance(img_in, r=0.299, g=0.587, b=0.114):\n",
    "    # Default parameter values are for luminance conversion\n",
    "    img_float = np.array(img_in).astype(np.float32)\n",
    "    img_lum = (r*img_float[:,:,0] + g*img_float[:,:,1] + b*img_float[:,:,2])\n",
    "    \n",
    "    return img_lum"
   ]
  },
  {
   "cell_type": "code",
   "execution_count": 9,
   "id": "90ce72e2-0a91-403e-a95c-2d6693cecf6a",
   "metadata": {},
   "outputs": [],
   "source": [
    "# Reshape image according to attribute option\n",
    "# x = np.array([m*[i] for i in range(m)]).astype(np.float32)\n",
    "# x1d = x.reshape((1,x.shape[0]*x.shape[1]))\n",
    "# y = np.array([[j for j in range(n)] for i in range(m)]).astype(np.float32)\n",
    "# y1d = y.reshape((1,y.shape[0]*y.shape[1]))\n",
    "\n",
    "# if ((attr_option == 1) | (attr_option == 2)):\n",
    "#     img_1dr = img_in[:,:,0].reshape((1,m*n))\n",
    "#     img_1dg = img_in[:,:,1].reshape((1,m*n))\n",
    "#     img_1db = img_in[:,:,2].reshape((1,m*n))\n",
    "# elif ((attr_option == 3) | (attr_option == 4)):\n",
    "#     img_lum = luminance(img_in)\n",
    "#     img_1d = img_lum.reshape((1,img_lum.shape[0]*img_lum.shape[1]))\n",
    "# else:\n",
    "#     raise ValueError(\"Option value not found\")"
   ]
  },
  {
   "cell_type": "code",
   "execution_count": 10,
   "id": "cfba08be-3bf6-4597-bb1a-830cf7e9a6de",
   "metadata": {},
   "outputs": [],
   "source": [
    "# attr_option = 4\n",
    "# clusters = 3"
   ]
  },
  {
   "cell_type": "code",
   "execution_count": 11,
   "id": "f1147946-cd6b-4046-be4b-2978a5997a20",
   "metadata": {},
   "outputs": [],
   "source": [
    "# Stack attributes\n",
    "x = np.array([m*[i] for i in range(m)]).astype(np.float32)\n",
    "y = np.array([[j for j in range(n)] for i in range(m)]).astype(np.float32)\n",
    "\n",
    "luminance_out = False\n",
    "if attr_option == 1:\n",
    "    img_attr = img_in\n",
    "elif attr_option == 2:\n",
    "    img_attr = np.stack([img_in[:,:,0], img_in[:,:,1], img_in[:,:,2], x, y], axis=2)\n",
    "elif attr_option == 3:\n",
    "    luminance_out = True\n",
    "    img_attr = np.stack([luminance(img_in)], axis=2)  # Nothing is stacked, but allows compatibility with further methods\n",
    "elif attr_option == 4:\n",
    "    luminance_out = True\n",
    "    img_lum = luminance(img_in)\n",
    "    img_attr = np.stack([img_lum, x, y], axis=2)\n",
    "\n",
    "else:\n",
    "    raise ValueError(\"Option value not found\")\n",
    "\n",
    "# img_attr[:,:3,:3]  # Note the atributes are located in the first axis"
   ]
  },
  {
   "cell_type": "code",
   "execution_count": 12,
   "id": "bd67c429-1361-4eec-8ea0-2907b4c82cc4",
   "metadata": {
    "scrolled": true,
    "tags": []
   },
   "outputs": [
    {
     "data": {
      "text/plain": [
       "array([[[200.759  ],\n",
       "        [200.759  ],\n",
       "        [200.759  ],\n",
       "        ...,\n",
       "        [218.954  ],\n",
       "        [218.954  ],\n",
       "        [217.954  ]],\n",
       "\n",
       "       [[200.759  ],\n",
       "        [200.759  ],\n",
       "        [200.759  ],\n",
       "        ...,\n",
       "        [218.954  ],\n",
       "        [218.954  ],\n",
       "        [218.954  ]],\n",
       "\n",
       "       [[200.759  ],\n",
       "        [200.759  ],\n",
       "        [200.759  ],\n",
       "        ...,\n",
       "        [218.954  ],\n",
       "        [218.954  ],\n",
       "        [218.954  ]],\n",
       "\n",
       "       ...,\n",
       "\n",
       "       [[175.677  ],\n",
       "        [176.677  ],\n",
       "        [176.677  ],\n",
       "        ...,\n",
       "        [202.808  ],\n",
       "        [202.808  ],\n",
       "        [204.80801]],\n",
       "\n",
       "       [[176.677  ],\n",
       "        [176.677  ],\n",
       "        [176.677  ],\n",
       "        ...,\n",
       "        [203.808  ],\n",
       "        [204.03601],\n",
       "        [205.03601]],\n",
       "\n",
       "       [[176.677  ],\n",
       "        [174.677  ],\n",
       "        [173.677  ],\n",
       "        ...,\n",
       "        [204.03601],\n",
       "        [203.03601],\n",
       "        [204.03601]]], dtype=float32)"
      ]
     },
     "execution_count": 12,
     "metadata": {},
     "output_type": "execute_result"
    }
   ],
   "source": [
    "img_attr"
   ]
  },
  {
   "cell_type": "code",
   "execution_count": 12,
   "id": "0b825b61-6812-41d5-929f-60021862f281",
   "metadata": {},
   "outputs": [],
   "source": [
    "# Select first centroids randomly\n",
    "# random.seed(seed)\n",
    "# #coord_start = np.sort(random.sample(range(0, m*n), clusters))\n",
    "# rand_matrix = np.random.rand(m,n)\n",
    "# k_smaller = np.sort(rand_matrix.flatten())[:clusters]\n",
    "# coord_start = np.isin(rand_matrix, k_smaller)\n",
    "# coord_start"
   ]
  },
  {
   "cell_type": "code",
   "execution_count": 13,
   "id": "1a003cc4-4e78-4397-8247-491168af6d3c",
   "metadata": {},
   "outputs": [
    {
     "data": {
      "text/plain": [
       "array([[False, False, False, ..., False, False, False],\n",
       "       [False, False, False, ..., False, False, False],\n",
       "       [False, False, False, ..., False, False, False],\n",
       "       ...,\n",
       "       [False, False, False, ..., False, False, False],\n",
       "       [False, False, False, ..., False, False, False],\n",
       "       [False, False, False, ..., False, False, False]])"
      ]
     },
     "execution_count": 13,
     "metadata": {},
     "output_type": "execute_result"
    }
   ],
   "source": [
    "# Select first centroids randomly\n",
    "sel = random.sample(range(0, m*n), clusters)\n",
    "coord_start = np.array([False for _ in range(m*n)])\n",
    "coord_start[sel] = True\n",
    "coord_start = coord_start.reshape((m,n))\n",
    "coord_start"
   ]
  },
  {
   "cell_type": "code",
   "execution_count": 14,
   "id": "4aaeffee-c73a-4ae3-8cd1-c3507b77decc",
   "metadata": {},
   "outputs": [
    {
     "data": {
      "text/plain": [
       "array([[222.66301],\n",
       "       [220.26102],\n",
       "       [224.62401],\n",
       "       [192.808  ]], dtype=float32)"
      ]
     },
     "execution_count": 14,
     "metadata": {},
     "output_type": "execute_result"
    }
   ],
   "source": [
    "img_attr[coord_start]"
   ]
  },
  {
   "cell_type": "code",
   "execution_count": 15,
   "id": "1e3df453-da6a-41fb-853f-a64f5b85decc",
   "metadata": {},
   "outputs": [
    {
     "data": {
      "text/plain": [
       "array([[222.66301],\n",
       "       [220.26102],\n",
       "       [224.62401],\n",
       "       [192.808  ]], dtype=float32)"
      ]
     },
     "execution_count": 15,
     "metadata": {},
     "output_type": "execute_result"
    }
   ],
   "source": [
    "# if attr_option == 3:\n",
    "#     centroids = img_attr[coord_start]\n",
    "# else:\n",
    "centroids = img_attr[coord_start,:]\n",
    "centroids"
   ]
  },
  {
   "cell_type": "code",
   "execution_count": 16,
   "id": "d764fd3f-c118-49aa-99d1-240bd3b550b9",
   "metadata": {},
   "outputs": [
    {
     "ename": "NameError",
     "evalue": "name 'k' is not defined",
     "output_type": "error",
     "traceback": [
      "\u001b[0;31m---------------------------------------------------------------------------\u001b[0m",
      "\u001b[0;31mNameError\u001b[0m                                 Traceback (most recent call last)",
      "\u001b[0;32m/tmp/ipykernel_13011/93014288.py\u001b[0m in \u001b[0;36m<module>\u001b[0;34m\u001b[0m\n\u001b[0;32m----> 1\u001b[0;31m \u001b[0mnp\u001b[0m\u001b[0;34m.\u001b[0m\u001b[0marray\u001b[0m\u001b[0;34m(\u001b[0m\u001b[0;34m[\u001b[0m\u001b[0mcentroids\u001b[0m\u001b[0;34m[\u001b[0m\u001b[0mk\u001b[0m\u001b[0;34m,\u001b[0m\u001b[0;34m:\u001b[0m\u001b[0;34m]\u001b[0m\u001b[0;34m]\u001b[0m\u001b[0;34m*\u001b[0m\u001b[0;36m5\u001b[0m\u001b[0;34m*\u001b[0m\u001b[0;36m5\u001b[0m\u001b[0;34m)\u001b[0m\u001b[0;34m.\u001b[0m\u001b[0mreshape\u001b[0m\u001b[0;34m(\u001b[0m\u001b[0;34m(\u001b[0m\u001b[0;36m5\u001b[0m\u001b[0;34m,\u001b[0m\u001b[0;36m5\u001b[0m\u001b[0;34m,\u001b[0m\u001b[0mnp\u001b[0m\u001b[0;34m.\u001b[0m\u001b[0msize\u001b[0m\u001b[0;34m(\u001b[0m\u001b[0mcentroids\u001b[0m\u001b[0;34m,\u001b[0m\u001b[0maxis\u001b[0m\u001b[0;34m=\u001b[0m\u001b[0;34m-\u001b[0m\u001b[0;36m1\u001b[0m\u001b[0;34m)\u001b[0m\u001b[0;34m)\u001b[0m\u001b[0;34m)\u001b[0m\u001b[0;34m\u001b[0m\u001b[0;34m\u001b[0m\u001b[0m\n\u001b[0m",
      "\u001b[0;31mNameError\u001b[0m: name 'k' is not defined"
     ]
    }
   ],
   "source": [
    "np.array([centroids[k,:]]*5*5).reshape((5,5,np.size(centroids,axis=-1)))"
   ]
  },
  {
   "cell_type": "code",
   "execution_count": 17,
   "id": "e0d98817-bb14-4eec-af3f-fff166bb19e9",
   "metadata": {
    "scrolled": true,
    "tags": []
   },
   "outputs": [
    {
     "ename": "NameError",
     "evalue": "name 'k' is not defined",
     "output_type": "error",
     "traceback": [
      "\u001b[0;31m---------------------------------------------------------------------------\u001b[0m",
      "\u001b[0;31mNameError\u001b[0m                                 Traceback (most recent call last)",
      "\u001b[0;32m/tmp/ipykernel_6494/606316093.py\u001b[0m in \u001b[0;36m<module>\u001b[0;34m\u001b[0m\n\u001b[0;32m----> 1\u001b[0;31m \u001b[0mnp\u001b[0m\u001b[0;34m.\u001b[0m\u001b[0marray\u001b[0m\u001b[0;34m(\u001b[0m\u001b[0;34m[\u001b[0m\u001b[0mcentroids\u001b[0m\u001b[0;34m[\u001b[0m\u001b[0mk\u001b[0m\u001b[0;34m,\u001b[0m\u001b[0;34m:\u001b[0m\u001b[0;34m]\u001b[0m\u001b[0;34m]\u001b[0m\u001b[0;34m*\u001b[0m\u001b[0mm\u001b[0m\u001b[0;34m*\u001b[0m\u001b[0mn\u001b[0m\u001b[0;34m)\u001b[0m\u001b[0;34m.\u001b[0m\u001b[0mreshape\u001b[0m\u001b[0;34m(\u001b[0m\u001b[0;34m(\u001b[0m\u001b[0mm\u001b[0m\u001b[0;34m,\u001b[0m\u001b[0mn\u001b[0m\u001b[0;34m,\u001b[0m\u001b[0mnp\u001b[0m\u001b[0;34m.\u001b[0m\u001b[0msize\u001b[0m\u001b[0;34m(\u001b[0m\u001b[0mcentroids\u001b[0m\u001b[0;34m,\u001b[0m\u001b[0maxis\u001b[0m\u001b[0;34m=\u001b[0m\u001b[0;34m-\u001b[0m\u001b[0;36m1\u001b[0m\u001b[0;34m)\u001b[0m\u001b[0;34m)\u001b[0m\u001b[0;34m)\u001b[0m\u001b[0;34m\u001b[0m\u001b[0;34m\u001b[0m\u001b[0m\n\u001b[0m",
      "\u001b[0;31mNameError\u001b[0m: name 'k' is not defined"
     ]
    }
   ],
   "source": [
    "np.array([centroids[k,:]]*m*n).reshape((m,n,np.size(centroids,axis=-1)))"
   ]
  },
  {
   "cell_type": "code",
   "execution_count": 20,
   "id": "1ff73b2b-509d-418b-bc6a-df41af0adddc",
   "metadata": {},
   "outputs": [],
   "source": [
    "def calc_distances(clusters, centroids, img_attr, m, n):\n",
    "    distances = []\n",
    "    for k in range(clusters):\n",
    "        # if attr_option == 3:\n",
    "        #     centroid_k_matrix = np.array([[centroids[k] for j in range(m)] for i in range(n)])\n",
    "        #     distance = np.sqrt(np.sum((img_attr-centroid_k_matrix)**2))\n",
    "        # else:\n",
    "        centroid_k_matrix = np.array([centroids[k,:]]*m*n).reshape((m,n,np.size(centroids,axis=-1)))\n",
    "        distance = np.sqrt(np.sum((img_attr-centroid_k_matrix)**2, axis=2))\n",
    "        \n",
    "        distances.append(distance)\n",
    "    #print(distances)\n",
    "    \n",
    "    return distances"
   ]
  },
  {
   "cell_type": "code",
   "execution_count": 21,
   "id": "02c1a91e-8626-4c50-8294-dce2da0d5b83",
   "metadata": {},
   "outputs": [],
   "source": [
    "def calc_centroids(clusters, category, img_attr):\n",
    "    for k in prange(clusters):\n",
    "        if np.size(np.where(category == k),axis=1) > 0:\n",
    "            centroids[k] = np.average(img_attr[np.where(category == k)], axis=0)\n",
    "    #print(centroids)\n",
    "    \n",
    "    return centroids"
   ]
  },
  {
   "cell_type": "code",
   "execution_count": null,
   "id": "5e1ba5cd-1581-4ec1-9558-77e08ed34f81",
   "metadata": {
    "scrolled": true,
    "tags": []
   },
   "outputs": [],
   "source": [
    "con = n\n",
    "\n",
    "while (con > 0):\n",
    "    distances = calc_distances(clusters, centroids, img_attr, m, n)\n",
    "\n",
    "    category = np.argmin(distances, axis=0)\n",
    "    #print(category)\n",
    "\n",
    "    centroids = calc_centroids(clusters, category, img_attr)\n",
    "    \n",
    "    con -= 1"
   ]
  },
  {
   "cell_type": "code",
   "execution_count": 19,
   "id": "55dceb3d-fb69-41c3-b5bf-30f48073fd87",
   "metadata": {},
   "outputs": [],
   "source": [
    "def img_norm(im, high):  # Normalize\n",
    "    im_low = im-np.min(im)  # Shift the low value to 0\n",
    "    im_norm = (im_low*high/np.max(im_low))  # Adjust the range to a maximum of 255\n",
    "    return im_norm"
   ]
  },
  {
   "cell_type": "code",
   "execution_count": 20,
   "id": "c8202573-47a4-4d4f-95f7-860927350aa3",
   "metadata": {},
   "outputs": [],
   "source": [
    "if luminance_out:\n",
    "    img_cat = np.zeros((m,n))\n",
    "else:\n",
    "    img_cat = np.zeros((m,n,3))\n",
    "\n",
    "for k in range(clusters):\n",
    "    if luminance_out:\n",
    "        if attr_option == 3:\n",
    "            img_cat[category == k] = centroids[k]\n",
    "        else:\n",
    "            img_cat[category == k] = centroids[k][0]\n",
    "    else:\n",
    "        for channel in range(3):\n",
    "            img_cat[category == k, channel] = centroids[k][channel]"
   ]
  },
  {
   "cell_type": "code",
   "execution_count": null,
   "id": "0418e4b8-8e2e-4fe3-8fc1-d0f83f9b6205",
   "metadata": {},
   "outputs": [],
   "source": []
  },
  {
   "cell_type": "code",
   "execution_count": 21,
   "id": "f3c87213-5f75-4591-b809-b2fbeec4f207",
   "metadata": {},
   "outputs": [],
   "source": [
    "if luminance_out:\n",
    "    img_out = np.array(img_norm(img_cat, 255))\n",
    "else:\n",
    "    # if attr_option != 3:\n",
    "    img_out = np.zeros((m,n,3))\n",
    "    for channel in range(3):\n",
    "        img_out[:,:,channel] = img_norm(img_cat[:,:,channel],255)\n",
    "    # else:\n",
    "    #     img_out = np.zeros((m,n))\n",
    "    #     img_out = img_norm(img_cat,255)"
   ]
  },
  {
   "cell_type": "code",
   "execution_count": 22,
   "id": "ab4bd218-920c-4370-b631-f1fde3e7cf86",
   "metadata": {
    "scrolled": true,
    "tags": []
   },
   "outputs": [
    {
     "data": {
      "text/plain": [
       "array([[[239.47206693, 241.75567439, 251.70326041],\n",
       "        [239.47206693, 241.75567439, 251.70326041],\n",
       "        [239.47206693, 241.75567439, 251.70326041],\n",
       "        ...,\n",
       "        [241.90111146, 246.19915397, 255.        ],\n",
       "        [241.90111146, 246.19915397, 255.        ],\n",
       "        [241.90111146, 246.19915397, 255.        ]],\n",
       "\n",
       "       [[239.47206693, 241.75567439, 251.70326041],\n",
       "        [239.47206693, 241.75567439, 251.70326041],\n",
       "        [239.47206693, 241.75567439, 251.70326041],\n",
       "        ...,\n",
       "        [241.90111146, 246.19915397, 255.        ],\n",
       "        [241.90111146, 246.19915397, 255.        ],\n",
       "        [241.90111146, 246.19915397, 255.        ]],\n",
       "\n",
       "       [[239.47206693, 241.75567439, 251.70326041],\n",
       "        [239.47206693, 241.75567439, 251.70326041],\n",
       "        [239.47206693, 241.75567439, 251.70326041],\n",
       "        ...,\n",
       "        [241.90111146, 246.19915397, 255.        ],\n",
       "        [241.90111146, 246.19915397, 255.        ],\n",
       "        [241.90111146, 246.19915397, 255.        ]],\n",
       "\n",
       "       ...,\n",
       "\n",
       "       [[214.38543547, 225.78554219, 241.03734762],\n",
       "        [214.38543547, 225.78554219, 241.03734762],\n",
       "        [214.38543547, 225.78554219, 241.03734762],\n",
       "        ...,\n",
       "        [100.95433175,  56.85309315,  37.99653497],\n",
       "        [154.6754249 , 102.91870165,  81.65023796],\n",
       "        [154.6754249 , 102.91870165,  81.65023796]],\n",
       "\n",
       "       [[214.38543547, 225.78554219, 241.03734762],\n",
       "        [214.38543547, 225.78554219, 241.03734762],\n",
       "        [214.38543547, 225.78554219, 241.03734762],\n",
       "        ...,\n",
       "        [100.95433175,  56.85309315,  37.99653497],\n",
       "        [154.6754249 , 102.91870165,  81.65023796],\n",
       "        [154.6754249 , 102.91870165,  81.65023796]],\n",
       "\n",
       "       [[199.51613167, 155.66970144, 132.79724974],\n",
       "        [199.51613167, 155.66970144, 132.79724974],\n",
       "        [199.51613167, 155.66970144, 132.79724974],\n",
       "        ...,\n",
       "        [100.95433175,  56.85309315,  37.99653497],\n",
       "        [100.95433175,  56.85309315,  37.99653497],\n",
       "        [ 53.31919116,  16.23787934,   0.        ]]])"
      ]
     },
     "execution_count": 22,
     "metadata": {},
     "output_type": "execute_result"
    }
   ],
   "source": [
    "img_norm(img_cat,255)"
   ]
  },
  {
   "cell_type": "code",
   "execution_count": 23,
   "id": "a840f7dc-a712-48b5-b796-d2bdebaf15ac",
   "metadata": {},
   "outputs": [],
   "source": [
    "img_ref_src = path_img + img_ref_name\n",
    "img_ref = (imageio.imread(img_ref_src)).astype(np.float32)  #[:5,:5,:]"
   ]
  },
  {
   "cell_type": "code",
   "execution_count": 24,
   "id": "a60b324f-b825-47be-a706-9cadce8431fe",
   "metadata": {},
   "outputs": [
    {
     "name": "stdout",
     "output_type": "stream",
     "text": [
      "22.2396\n"
     ]
    }
   ],
   "source": [
    "# Calculate the RMSE error\n",
    "RMSE = np.sum(np.square(img_out.astype(np.float32) - img_ref.astype(np.float32)))\n",
    "if not luminance_out:\n",
    "    RMSE /= 3\n",
    "\n",
    "RMSE = round(np.sqrt(RMSE/(m*n)), 4)\n",
    "print(RMSE)"
   ]
  },
  {
   "cell_type": "code",
   "execution_count": 25,
   "id": "bce1b91b-8283-469e-8447-47670e80bd16",
   "metadata": {},
   "outputs": [
    {
     "name": "stdout",
     "output_type": "stream",
     "text": [
      "0.49\n"
     ]
    }
   ],
   "source": [
    "print(round(float(open(filename[:-2]+\"out\", newline='\\n').readline()[:-1]),4))"
   ]
  },
  {
   "cell_type": "code",
   "execution_count": 26,
   "id": "7b33ac2e-e5ed-4b65-81c0-2d1a25ce52a2",
   "metadata": {},
   "outputs": [
    {
     "data": {
      "text/plain": [
       "<matplotlib.image.AxesImage at 0x7fa464afd8e0>"
      ]
     },
     "execution_count": 26,
     "metadata": {},
     "output_type": "execute_result"
    },
    {
     "data": {
      "image/png": "[encoded data removed]",
      "text/plain": [
       "<Figure size 432x288 with 1 Axes>"
      ]
     },
     "metadata": {
      "needs_background": "light"
     },
     "output_type": "display_data"
    }
   ],
   "source": [
    "plt.imshow(img_ref.astype(np.uint8))"
   ]
  },
  {
   "cell_type": "code",
   "execution_count": 27,
   "id": "245a1a87-5696-41c2-971e-3da677ae17ba",
   "metadata": {},
   "outputs": [
    {
     "data": {
      "text/plain": [
       "<matplotlib.image.AxesImage at 0x7fa462a187c0>"
      ]
     },
     "execution_count": 27,
     "metadata": {},
     "output_type": "execute_result"
    },
    {
     "data": {
      "image/png": "[encoded data removed]",
      "text/plain": [
       "<Figure size 432x288 with 1 Axes>"
      ]
     },
     "metadata": {
      "needs_background": "light"
     },
     "output_type": "display_data"
    }
   ],
   "source": [
    "plt.imshow(img_out.astype(np.uint8))"
   ]
  },
  {
   "cell_type": "code",
   "execution_count": null,
   "id": "0628bae3-b37d-415b-8ddf-5eb3b68330f9",
   "metadata": {},
   "outputs": [],
   "source": []
  },
  {
   "cell_type": "code",
   "execution_count": null,
   "id": "168feed2-2002-432b-83f3-45e06089e71f",
   "metadata": {},
   "outputs": [],
   "source": []
  }
 ],
 "metadata": {
  "kernelspec": {
   "display_name": "Python 3 (ipykernel)",
   "language": "python",
   "name": "python3"
  },
  "language_info": {
   "codemirror_mode": {
    "name": "ipython",
    "version": 3
   },
   "file_extension": ".py",
   "mimetype": "text/x-python",
   "name": "python",
   "nbconvert_exporter": "python",
   "pygments_lexer": "ipython3",
   "version": "3.9.2"
  }
 },
 "nbformat": 4,
 "nbformat_minor": 5
}
